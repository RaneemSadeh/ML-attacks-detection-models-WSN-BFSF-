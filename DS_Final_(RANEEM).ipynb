{
  "cells": [
    {
      "cell_type": "markdown",
      "source": [
        "#STARTING"
      ],
      "metadata": {
        "id": "QnWnY2-21Z72"
      }
    },
    {
      "cell_type": "markdown",
      "source": [
        "# Importing the numpy and the pandas and the encoder"
      ],
      "metadata": {
        "id": "ll6R6Q8OeuEj"
      }
    },
    {
      "cell_type": "code",
      "execution_count": 104,
      "metadata": {
        "id": "zeYveIt568MH"
      },
      "outputs": [],
      "source": [
        "import pandas as pd\n",
        "import numpy as np\n",
        "from sklearn.preprocessing import OneHotEncoder"
      ]
    },
    {
      "cell_type": "code",
      "source": [
        "# import my drive to could enter to the files in it"
      ],
      "metadata": {
        "id": "2pdWtpbBfLcq"
      },
      "execution_count": 105,
      "outputs": []
    },
    {
      "cell_type": "markdown",
      "source": [
        "# Importing my drive"
      ],
      "metadata": {
        "id": "zN2Lw04cqAQW"
      }
    },
    {
      "cell_type": "code",
      "execution_count": 106,
      "metadata": {
        "id": "k1732YKP5Ewi",
        "colab": {
          "base_uri": "https://localhost:8080/"
        },
        "outputId": "aed72552-0ccd-4582-8cf1-ae7cb3cb055c"
      },
      "outputs": [
        {
          "output_type": "stream",
          "name": "stdout",
          "text": [
            "Drive already mounted at /content/drive; to attempt to forcibly remount, call drive.mount(\"/content/drive\", force_remount=True).\n"
          ]
        }
      ],
      "source": [
        "from google.colab import drive\n",
        "drive.mount ('/content/drive')"
      ]
    },
    {
      "cell_type": "code",
      "source": [
        "# giving my CSV file 'path' name"
      ],
      "metadata": {
        "id": "xQZDB3qTfTy2"
      },
      "execution_count": 107,
      "outputs": []
    },
    {
      "cell_type": "code",
      "execution_count": 108,
      "metadata": {
        "id": "xIUlBraF6kIv"
      },
      "outputs": [],
      "source": [
        "path = \"/content/drive/MyDrive/Data Science/WSNBFSFdataset_DSprog.csv\""
      ]
    },
    {
      "cell_type": "code",
      "source": [
        "# df data set read my file by pandas"
      ],
      "metadata": {
        "id": "utIkdEBvfcrA"
      },
      "execution_count": 109,
      "outputs": []
    },
    {
      "cell_type": "code",
      "execution_count": 110,
      "metadata": {
        "id": "MM4cl6jC61i3"
      },
      "outputs": [],
      "source": [
        "df = pd.read_csv(path)"
      ]
    },
    {
      "cell_type": "code",
      "source": [
        "# to know the shape (number of rows and columns) for my data set"
      ],
      "metadata": {
        "id": "lpK-cWgCfjte"
      },
      "execution_count": 111,
      "outputs": []
    },
    {
      "cell_type": "code",
      "execution_count": 112,
      "metadata": {
        "id": "s066J4oL-fxm",
        "colab": {
          "base_uri": "https://localhost:8080/"
        },
        "outputId": "3a670846-8a2f-49cc-a667-9a1ed56a2e6d"
      },
      "outputs": [
        {
          "output_type": "execute_result",
          "data": {
            "text/plain": [
              "(50000, 19)"
            ]
          },
          "metadata": {},
          "execution_count": 112
        }
      ],
      "source": [
        "df.shape"
      ]
    },
    {
      "cell_type": "markdown",
      "source": [
        "# see if there are null values"
      ],
      "metadata": {
        "id": "J6qEIeDwqFjV"
      }
    },
    {
      "cell_type": "code",
      "source": [
        "# to see if there are null values in the set to work with the missing values"
      ],
      "metadata": {
        "id": "-uCG4dlwft1d"
      },
      "execution_count": 113,
      "outputs": []
    },
    {
      "cell_type": "code",
      "execution_count": 114,
      "metadata": {
        "id": "EstyUSkd7xOX",
        "colab": {
          "base_uri": "https://localhost:8080/"
        },
        "outputId": "6a52324b-7db1-40fe-c432-dfe4ae412bdd"
      },
      "outputs": [
        {
          "output_type": "execute_result",
          "data": {
            "text/plain": [
              "Event                0\n",
              "Time              1698\n",
              "S_Node               0\n",
              "Node_id              0\n",
              "Rest_Energy       1710\n",
              "Trace_Level       3898\n",
              "Mac_Type_Pckt     1778\n",
              "Source_IP_Port       0\n",
              "Des_IP_Port         60\n",
              "Packet_Size        939\n",
              "TTL                  0\n",
              "Hop_Count            0\n",
              "Broadcast_ID         0\n",
              "Dest_Node_Num      419\n",
              "Dest_Seq_Num      1235\n",
              "Src_Node_ID          0\n",
              "Src_Seq_Num          0\n",
              "behaviour            0\n",
              "Type                 0\n",
              "dtype: int64"
            ]
          },
          "metadata": {},
          "execution_count": 114
        }
      ],
      "source": [
        "df.isnull().sum()"
      ]
    },
    {
      "cell_type": "markdown",
      "metadata": {
        "id": "i8oCsDsF8Hid"
      },
      "source": [
        "#So we have null elements like :\n",
        "                              1. Time\n",
        "                              2. Rest_Energy\n",
        "                              3. Trace_Level       \n",
        "                              4. Mac_Type_Pckt\n",
        "                              5. Dec_IP_Port\n",
        "                              6. Packet_Size\n",
        "                              7. Dest_Node_Num\n",
        "                              8. Dest_Seq_Num\n",
        "\n",
        "\n",
        "\n"
      ]
    },
    {
      "cell_type": "markdown",
      "source": [
        "# Working With The Missing Value"
      ],
      "metadata": {
        "id": "-qPbAHDepZCr"
      }
    },
    {
      "cell_type": "code",
      "execution_count": 115,
      "metadata": {
        "id": "ROwxOb03GfdX"
      },
      "outputs": [],
      "source": [
        "# Filling the null values with the value 0\n",
        "#df_zero = df.fillna(value = 0)\n",
        "#df_zero"
      ]
    },
    {
      "cell_type": "code",
      "execution_count": 116,
      "metadata": {
        "id": "PBg08_hHPesX"
      },
      "outputs": [],
      "source": [
        "# Filling null values with a previous value\n",
        "\n",
        "#df_prev = df.fillna(method = 'pad')"
      ]
    },
    {
      "cell_type": "code",
      "source": [
        "df['Mac_Type_Pckt'] = df['Mac_Type_Pckt'].fillna(method = 'pad')\n",
        "df['Dest_Node_Num'] = df['Dest_Node_Num'].fillna(method = 'pad')\n",
        "df['Packet_Size'] = df['Packet_Size'].fillna(method = 'pad')\n",
        "df['Trace_Level'] = df['Trace_Level'].fillna(method = 'pad')\n",
        "df['Des_IP_Port'] = df['Des_IP_Port'].fillna(method = 'pad')\n",
        "df['Dest_Seq_Num'] = df['Dest_Seq_Num'].fillna(value = 0)"
      ],
      "metadata": {
        "id": "jw66N1BcgyQF"
      },
      "execution_count": 117,
      "outputs": []
    },
    {
      "cell_type": "code",
      "execution_count": 118,
      "metadata": {
        "id": "mUzphwgojScJ"
      },
      "outputs": [],
      "source": [
        "#df_prev.isnull().sum().sum()"
      ]
    },
    {
      "cell_type": "code",
      "execution_count": 119,
      "metadata": {
        "id": "XbbgOwATjXkW"
      },
      "outputs": [],
      "source": [
        "# Filling different values in deffrent columns\n",
        "#df_diff = df.fillna({'Time': '73.145837'})"
      ]
    },
    {
      "cell_type": "code",
      "source": [
        "# filling the null values with the mean of the value in a data set\n",
        "df = df.fillna(value = df['Time'].mean())\n",
        "df = df.fillna(value = df['Rest_Energy'].mean())\n"
      ],
      "metadata": {
        "id": "vui49Gqqo7Vw"
      },
      "execution_count": 120,
      "outputs": []
    },
    {
      "cell_type": "markdown",
      "source": [
        "# See if there a common between the columns + drop useful columns"
      ],
      "metadata": {
        "id": "gCNRJrAGpmOT"
      }
    },
    {
      "cell_type": "code",
      "source": [
        "# Using the corr function to see if there a common between the columns"
      ],
      "metadata": {
        "id": "v2AD10VBgP7d"
      },
      "execution_count": 121,
      "outputs": []
    },
    {
      "cell_type": "code",
      "source": [
        "df.corr()\n"
      ],
      "metadata": {
        "id": "PBhtBfjRujQK",
        "colab": {
          "base_uri": "https://localhost:8080/",
          "height": 0
        },
        "outputId": "93ea577f-02d4-4422-efa4-99eca3a05a29"
      },
      "execution_count": 122,
      "outputs": [
        {
          "output_type": "stream",
          "name": "stderr",
          "text": [
            "<ipython-input-122-2f6f6606aa2c>:1: FutureWarning: The default value of numeric_only in DataFrame.corr is deprecated. In a future version, it will default to False. Select only valid columns or specify the value of numeric_only to silence this warning.\n",
            "  df.corr()\n"
          ]
        },
        {
          "output_type": "execute_result",
          "data": {
            "text/plain": [
              "                   Event      Time    S_Node   Node_id  Rest_Energy  \\\n",
              "Event           1.000000 -0.024723 -0.003659 -0.003659    -0.008229   \n",
              "Time           -0.024723  1.000000 -0.030921 -0.030921    -0.052158   \n",
              "S_Node         -0.003659 -0.030921  1.000000  1.000000    -0.004519   \n",
              "Node_id        -0.003659 -0.030921  1.000000  1.000000    -0.004519   \n",
              "Rest_Energy    -0.008229 -0.052158 -0.004519 -0.004519     1.000000   \n",
              "Trace_Level          NaN       NaN       NaN       NaN          NaN   \n",
              "Mac_Type_Pckt   0.014488  0.000920  0.003037  0.003037    -0.001735   \n",
              "Source_IP_Port -0.004034 -0.034001  0.867793  0.867793    -0.002532   \n",
              "Des_IP_Port          NaN       NaN       NaN       NaN          NaN   \n",
              "Packet_Size     0.744610 -0.037319 -0.003946 -0.003946    -0.008080   \n",
              "TTL            -0.005996  0.095411 -0.010985 -0.010985    -0.029921   \n",
              "Hop_Count       0.005820 -0.069967  0.056675  0.056675    -0.011934   \n",
              "Broadcast_ID   -0.019701  0.623493 -0.004429 -0.004429    -0.022582   \n",
              "Dest_Node_Num  -0.017337 -0.013688  0.002242  0.002242    -0.007505   \n",
              "Dest_Seq_Num    0.003888 -0.207641 -0.004356 -0.004356     0.023700   \n",
              "Src_Node_ID    -0.025867  0.243795  0.020096  0.020096    -0.022850   \n",
              "Src_Seq_Num    -0.019701  0.623493 -0.004429 -0.004429    -0.022582   \n",
              "\n",
              "                Trace_Level  Mac_Type_Pckt  Source_IP_Port  Des_IP_Port  \\\n",
              "Event                   NaN       0.014488       -0.004034          NaN   \n",
              "Time                    NaN       0.000920       -0.034001          NaN   \n",
              "S_Node                  NaN       0.003037        0.867793          NaN   \n",
              "Node_id                 NaN       0.003037        0.867793          NaN   \n",
              "Rest_Energy             NaN      -0.001735       -0.002532          NaN   \n",
              "Trace_Level             NaN            NaN             NaN          NaN   \n",
              "Mac_Type_Pckt           NaN       1.000000        0.003096          NaN   \n",
              "Source_IP_Port          NaN       0.003096        1.000000          NaN   \n",
              "Des_IP_Port             NaN            NaN             NaN          NaN   \n",
              "Packet_Size             NaN       0.004112       -0.004491          NaN   \n",
              "TTL                     NaN      -0.010152       -0.010838          NaN   \n",
              "Hop_Count               NaN       0.016574        0.050432          NaN   \n",
              "Broadcast_ID            NaN       0.002436       -0.005476          NaN   \n",
              "Dest_Node_Num           NaN       0.007805        0.000874          NaN   \n",
              "Dest_Seq_Num            NaN      -0.002812       -0.003176          NaN   \n",
              "Src_Node_ID             NaN       0.004383        0.020466          NaN   \n",
              "Src_Seq_Num             NaN       0.002436       -0.005476          NaN   \n",
              "\n",
              "                Packet_Size       TTL  Hop_Count  Broadcast_ID  Dest_Node_Num  \\\n",
              "Event              0.744610 -0.005996   0.005820     -0.019701      -0.017337   \n",
              "Time              -0.037319  0.095411  -0.069967      0.623493      -0.013688   \n",
              "S_Node            -0.003946 -0.010985   0.056675     -0.004429       0.002242   \n",
              "Node_id           -0.003946 -0.010985   0.056675     -0.004429       0.002242   \n",
              "Rest_Energy       -0.008080 -0.029921  -0.011934     -0.022582      -0.007505   \n",
              "Trace_Level             NaN       NaN        NaN           NaN            NaN   \n",
              "Mac_Type_Pckt      0.004112 -0.010152   0.016574      0.002436       0.007805   \n",
              "Source_IP_Port    -0.004491 -0.010838   0.050432     -0.005476       0.000874   \n",
              "Des_IP_Port             NaN       NaN        NaN           NaN            NaN   \n",
              "Packet_Size        1.000000  0.009368  -0.001350     -0.022969      -0.025186   \n",
              "TTL                0.009368  1.000000  -0.213212      0.031586      -0.003248   \n",
              "Hop_Count         -0.001350 -0.213212   1.000000      0.137837       0.210997   \n",
              "Broadcast_ID      -0.022969  0.031586   0.137837      1.000000       0.414487   \n",
              "Dest_Node_Num     -0.025186 -0.003248   0.210997      0.414487       1.000000   \n",
              "Dest_Seq_Num      -0.007175 -0.535074  -0.263456     -0.259063      -0.218370   \n",
              "Src_Node_ID       -0.039083  0.084887   0.207624      0.614653       0.804243   \n",
              "Src_Seq_Num       -0.022969  0.031586   0.137837      1.000000       0.414487   \n",
              "\n",
              "                Dest_Seq_Num  Src_Node_ID  Src_Seq_Num  \n",
              "Event               0.003888    -0.025867    -0.019701  \n",
              "Time               -0.207641     0.243795     0.623493  \n",
              "S_Node             -0.004356     0.020096    -0.004429  \n",
              "Node_id            -0.004356     0.020096    -0.004429  \n",
              "Rest_Energy         0.023700    -0.022850    -0.022582  \n",
              "Trace_Level              NaN          NaN          NaN  \n",
              "Mac_Type_Pckt      -0.002812     0.004383     0.002436  \n",
              "Source_IP_Port     -0.003176     0.020466    -0.005476  \n",
              "Des_IP_Port              NaN          NaN          NaN  \n",
              "Packet_Size        -0.007175    -0.039083    -0.022969  \n",
              "TTL                -0.535074     0.084887     0.031586  \n",
              "Hop_Count          -0.263456     0.207624     0.137837  \n",
              "Broadcast_ID       -0.259063     0.614653     1.000000  \n",
              "Dest_Node_Num      -0.218370     0.804243     0.414487  \n",
              "Dest_Seq_Num        1.000000    -0.279419    -0.259063  \n",
              "Src_Node_ID        -0.279419     1.000000     0.614653  \n",
              "Src_Seq_Num        -0.259063     0.614653     1.000000  "
            ],
            "text/html": [
              "\n",
              "  <div id=\"df-eb12ae2a-b974-4674-8e80-78da8e7cfae4\" class=\"colab-df-container\">\n",
              "    <div>\n",
              "<style scoped>\n",
              "    .dataframe tbody tr th:only-of-type {\n",
              "        vertical-align: middle;\n",
              "    }\n",
              "\n",
              "    .dataframe tbody tr th {\n",
              "        vertical-align: top;\n",
              "    }\n",
              "\n",
              "    .dataframe thead th {\n",
              "        text-align: right;\n",
              "    }\n",
              "</style>\n",
              "<table border=\"1\" class=\"dataframe\">\n",
              "  <thead>\n",
              "    <tr style=\"text-align: right;\">\n",
              "      <th></th>\n",
              "      <th>Event</th>\n",
              "      <th>Time</th>\n",
              "      <th>S_Node</th>\n",
              "      <th>Node_id</th>\n",
              "      <th>Rest_Energy</th>\n",
              "      <th>Trace_Level</th>\n",
              "      <th>Mac_Type_Pckt</th>\n",
              "      <th>Source_IP_Port</th>\n",
              "      <th>Des_IP_Port</th>\n",
              "      <th>Packet_Size</th>\n",
              "      <th>TTL</th>\n",
              "      <th>Hop_Count</th>\n",
              "      <th>Broadcast_ID</th>\n",
              "      <th>Dest_Node_Num</th>\n",
              "      <th>Dest_Seq_Num</th>\n",
              "      <th>Src_Node_ID</th>\n",
              "      <th>Src_Seq_Num</th>\n",
              "    </tr>\n",
              "  </thead>\n",
              "  <tbody>\n",
              "    <tr>\n",
              "      <th>Event</th>\n",
              "      <td>1.000000</td>\n",
              "      <td>-0.024723</td>\n",
              "      <td>-0.003659</td>\n",
              "      <td>-0.003659</td>\n",
              "      <td>-0.008229</td>\n",
              "      <td>NaN</td>\n",
              "      <td>0.014488</td>\n",
              "      <td>-0.004034</td>\n",
              "      <td>NaN</td>\n",
              "      <td>0.744610</td>\n",
              "      <td>-0.005996</td>\n",
              "      <td>0.005820</td>\n",
              "      <td>-0.019701</td>\n",
              "      <td>-0.017337</td>\n",
              "      <td>0.003888</td>\n",
              "      <td>-0.025867</td>\n",
              "      <td>-0.019701</td>\n",
              "    </tr>\n",
              "    <tr>\n",
              "      <th>Time</th>\n",
              "      <td>-0.024723</td>\n",
              "      <td>1.000000</td>\n",
              "      <td>-0.030921</td>\n",
              "      <td>-0.030921</td>\n",
              "      <td>-0.052158</td>\n",
              "      <td>NaN</td>\n",
              "      <td>0.000920</td>\n",
              "      <td>-0.034001</td>\n",
              "      <td>NaN</td>\n",
              "      <td>-0.037319</td>\n",
              "      <td>0.095411</td>\n",
              "      <td>-0.069967</td>\n",
              "      <td>0.623493</td>\n",
              "      <td>-0.013688</td>\n",
              "      <td>-0.207641</td>\n",
              "      <td>0.243795</td>\n",
              "      <td>0.623493</td>\n",
              "    </tr>\n",
              "    <tr>\n",
              "      <th>S_Node</th>\n",
              "      <td>-0.003659</td>\n",
              "      <td>-0.030921</td>\n",
              "      <td>1.000000</td>\n",
              "      <td>1.000000</td>\n",
              "      <td>-0.004519</td>\n",
              "      <td>NaN</td>\n",
              "      <td>0.003037</td>\n",
              "      <td>0.867793</td>\n",
              "      <td>NaN</td>\n",
              "      <td>-0.003946</td>\n",
              "      <td>-0.010985</td>\n",
              "      <td>0.056675</td>\n",
              "      <td>-0.004429</td>\n",
              "      <td>0.002242</td>\n",
              "      <td>-0.004356</td>\n",
              "      <td>0.020096</td>\n",
              "      <td>-0.004429</td>\n",
              "    </tr>\n",
              "    <tr>\n",
              "      <th>Node_id</th>\n",
              "      <td>-0.003659</td>\n",
              "      <td>-0.030921</td>\n",
              "      <td>1.000000</td>\n",
              "      <td>1.000000</td>\n",
              "      <td>-0.004519</td>\n",
              "      <td>NaN</td>\n",
              "      <td>0.003037</td>\n",
              "      <td>0.867793</td>\n",
              "      <td>NaN</td>\n",
              "      <td>-0.003946</td>\n",
              "      <td>-0.010985</td>\n",
              "      <td>0.056675</td>\n",
              "      <td>-0.004429</td>\n",
              "      <td>0.002242</td>\n",
              "      <td>-0.004356</td>\n",
              "      <td>0.020096</td>\n",
              "      <td>-0.004429</td>\n",
              "    </tr>\n",
              "    <tr>\n",
              "      <th>Rest_Energy</th>\n",
              "      <td>-0.008229</td>\n",
              "      <td>-0.052158</td>\n",
              "      <td>-0.004519</td>\n",
              "      <td>-0.004519</td>\n",
              "      <td>1.000000</td>\n",
              "      <td>NaN</td>\n",
              "      <td>-0.001735</td>\n",
              "      <td>-0.002532</td>\n",
              "      <td>NaN</td>\n",
              "      <td>-0.008080</td>\n",
              "      <td>-0.029921</td>\n",
              "      <td>-0.011934</td>\n",
              "      <td>-0.022582</td>\n",
              "      <td>-0.007505</td>\n",
              "      <td>0.023700</td>\n",
              "      <td>-0.022850</td>\n",
              "      <td>-0.022582</td>\n",
              "    </tr>\n",
              "    <tr>\n",
              "      <th>Trace_Level</th>\n",
              "      <td>NaN</td>\n",
              "      <td>NaN</td>\n",
              "      <td>NaN</td>\n",
              "      <td>NaN</td>\n",
              "      <td>NaN</td>\n",
              "      <td>NaN</td>\n",
              "      <td>NaN</td>\n",
              "      <td>NaN</td>\n",
              "      <td>NaN</td>\n",
              "      <td>NaN</td>\n",
              "      <td>NaN</td>\n",
              "      <td>NaN</td>\n",
              "      <td>NaN</td>\n",
              "      <td>NaN</td>\n",
              "      <td>NaN</td>\n",
              "      <td>NaN</td>\n",
              "      <td>NaN</td>\n",
              "    </tr>\n",
              "    <tr>\n",
              "      <th>Mac_Type_Pckt</th>\n",
              "      <td>0.014488</td>\n",
              "      <td>0.000920</td>\n",
              "      <td>0.003037</td>\n",
              "      <td>0.003037</td>\n",
              "      <td>-0.001735</td>\n",
              "      <td>NaN</td>\n",
              "      <td>1.000000</td>\n",
              "      <td>0.003096</td>\n",
              "      <td>NaN</td>\n",
              "      <td>0.004112</td>\n",
              "      <td>-0.010152</td>\n",
              "      <td>0.016574</td>\n",
              "      <td>0.002436</td>\n",
              "      <td>0.007805</td>\n",
              "      <td>-0.002812</td>\n",
              "      <td>0.004383</td>\n",
              "      <td>0.002436</td>\n",
              "    </tr>\n",
              "    <tr>\n",
              "      <th>Source_IP_Port</th>\n",
              "      <td>-0.004034</td>\n",
              "      <td>-0.034001</td>\n",
              "      <td>0.867793</td>\n",
              "      <td>0.867793</td>\n",
              "      <td>-0.002532</td>\n",
              "      <td>NaN</td>\n",
              "      <td>0.003096</td>\n",
              "      <td>1.000000</td>\n",
              "      <td>NaN</td>\n",
              "      <td>-0.004491</td>\n",
              "      <td>-0.010838</td>\n",
              "      <td>0.050432</td>\n",
              "      <td>-0.005476</td>\n",
              "      <td>0.000874</td>\n",
              "      <td>-0.003176</td>\n",
              "      <td>0.020466</td>\n",
              "      <td>-0.005476</td>\n",
              "    </tr>\n",
              "    <tr>\n",
              "      <th>Des_IP_Port</th>\n",
              "      <td>NaN</td>\n",
              "      <td>NaN</td>\n",
              "      <td>NaN</td>\n",
              "      <td>NaN</td>\n",
              "      <td>NaN</td>\n",
              "      <td>NaN</td>\n",
              "      <td>NaN</td>\n",
              "      <td>NaN</td>\n",
              "      <td>NaN</td>\n",
              "      <td>NaN</td>\n",
              "      <td>NaN</td>\n",
              "      <td>NaN</td>\n",
              "      <td>NaN</td>\n",
              "      <td>NaN</td>\n",
              "      <td>NaN</td>\n",
              "      <td>NaN</td>\n",
              "      <td>NaN</td>\n",
              "    </tr>\n",
              "    <tr>\n",
              "      <th>Packet_Size</th>\n",
              "      <td>0.744610</td>\n",
              "      <td>-0.037319</td>\n",
              "      <td>-0.003946</td>\n",
              "      <td>-0.003946</td>\n",
              "      <td>-0.008080</td>\n",
              "      <td>NaN</td>\n",
              "      <td>0.004112</td>\n",
              "      <td>-0.004491</td>\n",
              "      <td>NaN</td>\n",
              "      <td>1.000000</td>\n",
              "      <td>0.009368</td>\n",
              "      <td>-0.001350</td>\n",
              "      <td>-0.022969</td>\n",
              "      <td>-0.025186</td>\n",
              "      <td>-0.007175</td>\n",
              "      <td>-0.039083</td>\n",
              "      <td>-0.022969</td>\n",
              "    </tr>\n",
              "    <tr>\n",
              "      <th>TTL</th>\n",
              "      <td>-0.005996</td>\n",
              "      <td>0.095411</td>\n",
              "      <td>-0.010985</td>\n",
              "      <td>-0.010985</td>\n",
              "      <td>-0.029921</td>\n",
              "      <td>NaN</td>\n",
              "      <td>-0.010152</td>\n",
              "      <td>-0.010838</td>\n",
              "      <td>NaN</td>\n",
              "      <td>0.009368</td>\n",
              "      <td>1.000000</td>\n",
              "      <td>-0.213212</td>\n",
              "      <td>0.031586</td>\n",
              "      <td>-0.003248</td>\n",
              "      <td>-0.535074</td>\n",
              "      <td>0.084887</td>\n",
              "      <td>0.031586</td>\n",
              "    </tr>\n",
              "    <tr>\n",
              "      <th>Hop_Count</th>\n",
              "      <td>0.005820</td>\n",
              "      <td>-0.069967</td>\n",
              "      <td>0.056675</td>\n",
              "      <td>0.056675</td>\n",
              "      <td>-0.011934</td>\n",
              "      <td>NaN</td>\n",
              "      <td>0.016574</td>\n",
              "      <td>0.050432</td>\n",
              "      <td>NaN</td>\n",
              "      <td>-0.001350</td>\n",
              "      <td>-0.213212</td>\n",
              "      <td>1.000000</td>\n",
              "      <td>0.137837</td>\n",
              "      <td>0.210997</td>\n",
              "      <td>-0.263456</td>\n",
              "      <td>0.207624</td>\n",
              "      <td>0.137837</td>\n",
              "    </tr>\n",
              "    <tr>\n",
              "      <th>Broadcast_ID</th>\n",
              "      <td>-0.019701</td>\n",
              "      <td>0.623493</td>\n",
              "      <td>-0.004429</td>\n",
              "      <td>-0.004429</td>\n",
              "      <td>-0.022582</td>\n",
              "      <td>NaN</td>\n",
              "      <td>0.002436</td>\n",
              "      <td>-0.005476</td>\n",
              "      <td>NaN</td>\n",
              "      <td>-0.022969</td>\n",
              "      <td>0.031586</td>\n",
              "      <td>0.137837</td>\n",
              "      <td>1.000000</td>\n",
              "      <td>0.414487</td>\n",
              "      <td>-0.259063</td>\n",
              "      <td>0.614653</td>\n",
              "      <td>1.000000</td>\n",
              "    </tr>\n",
              "    <tr>\n",
              "      <th>Dest_Node_Num</th>\n",
              "      <td>-0.017337</td>\n",
              "      <td>-0.013688</td>\n",
              "      <td>0.002242</td>\n",
              "      <td>0.002242</td>\n",
              "      <td>-0.007505</td>\n",
              "      <td>NaN</td>\n",
              "      <td>0.007805</td>\n",
              "      <td>0.000874</td>\n",
              "      <td>NaN</td>\n",
              "      <td>-0.025186</td>\n",
              "      <td>-0.003248</td>\n",
              "      <td>0.210997</td>\n",
              "      <td>0.414487</td>\n",
              "      <td>1.000000</td>\n",
              "      <td>-0.218370</td>\n",
              "      <td>0.804243</td>\n",
              "      <td>0.414487</td>\n",
              "    </tr>\n",
              "    <tr>\n",
              "      <th>Dest_Seq_Num</th>\n",
              "      <td>0.003888</td>\n",
              "      <td>-0.207641</td>\n",
              "      <td>-0.004356</td>\n",
              "      <td>-0.004356</td>\n",
              "      <td>0.023700</td>\n",
              "      <td>NaN</td>\n",
              "      <td>-0.002812</td>\n",
              "      <td>-0.003176</td>\n",
              "      <td>NaN</td>\n",
              "      <td>-0.007175</td>\n",
              "      <td>-0.535074</td>\n",
              "      <td>-0.263456</td>\n",
              "      <td>-0.259063</td>\n",
              "      <td>-0.218370</td>\n",
              "      <td>1.000000</td>\n",
              "      <td>-0.279419</td>\n",
              "      <td>-0.259063</td>\n",
              "    </tr>\n",
              "    <tr>\n",
              "      <th>Src_Node_ID</th>\n",
              "      <td>-0.025867</td>\n",
              "      <td>0.243795</td>\n",
              "      <td>0.020096</td>\n",
              "      <td>0.020096</td>\n",
              "      <td>-0.022850</td>\n",
              "      <td>NaN</td>\n",
              "      <td>0.004383</td>\n",
              "      <td>0.020466</td>\n",
              "      <td>NaN</td>\n",
              "      <td>-0.039083</td>\n",
              "      <td>0.084887</td>\n",
              "      <td>0.207624</td>\n",
              "      <td>0.614653</td>\n",
              "      <td>0.804243</td>\n",
              "      <td>-0.279419</td>\n",
              "      <td>1.000000</td>\n",
              "      <td>0.614653</td>\n",
              "    </tr>\n",
              "    <tr>\n",
              "      <th>Src_Seq_Num</th>\n",
              "      <td>-0.019701</td>\n",
              "      <td>0.623493</td>\n",
              "      <td>-0.004429</td>\n",
              "      <td>-0.004429</td>\n",
              "      <td>-0.022582</td>\n",
              "      <td>NaN</td>\n",
              "      <td>0.002436</td>\n",
              "      <td>-0.005476</td>\n",
              "      <td>NaN</td>\n",
              "      <td>-0.022969</td>\n",
              "      <td>0.031586</td>\n",
              "      <td>0.137837</td>\n",
              "      <td>1.000000</td>\n",
              "      <td>0.414487</td>\n",
              "      <td>-0.259063</td>\n",
              "      <td>0.614653</td>\n",
              "      <td>1.000000</td>\n",
              "    </tr>\n",
              "  </tbody>\n",
              "</table>\n",
              "</div>\n",
              "    <div class=\"colab-df-buttons\">\n",
              "\n",
              "  <div class=\"colab-df-container\">\n",
              "    <button class=\"colab-df-convert\" onclick=\"convertToInteractive('df-eb12ae2a-b974-4674-8e80-78da8e7cfae4')\"\n",
              "            title=\"Convert this dataframe to an interactive table.\"\n",
              "            style=\"display:none;\">\n",
              "\n",
              "  <svg xmlns=\"http://www.w3.org/2000/svg\" height=\"24px\" viewBox=\"0 -960 960 960\">\n",
              "    <path d=\"M120-120v-720h720v720H120Zm60-500h600v-160H180v160Zm220 220h160v-160H400v160Zm0 220h160v-160H400v160ZM180-400h160v-160H180v160Zm440 0h160v-160H620v160ZM180-180h160v-160H180v160Zm440 0h160v-160H620v160Z\"/>\n",
              "  </svg>\n",
              "    </button>\n",
              "\n",
              "  <style>\n",
              "    .colab-df-container {\n",
              "      display:flex;\n",
              "      gap: 12px;\n",
              "    }\n",
              "\n",
              "    .colab-df-convert {\n",
              "      background-color: #E8F0FE;\n",
              "      border: none;\n",
              "      border-radius: 50%;\n",
              "      cursor: pointer;\n",
              "      display: none;\n",
              "      fill: #1967D2;\n",
              "      height: 32px;\n",
              "      padding: 0 0 0 0;\n",
              "      width: 32px;\n",
              "    }\n",
              "\n",
              "    .colab-df-convert:hover {\n",
              "      background-color: #E2EBFA;\n",
              "      box-shadow: 0px 1px 2px rgba(60, 64, 67, 0.3), 0px 1px 3px 1px rgba(60, 64, 67, 0.15);\n",
              "      fill: #174EA6;\n",
              "    }\n",
              "\n",
              "    .colab-df-buttons div {\n",
              "      margin-bottom: 4px;\n",
              "    }\n",
              "\n",
              "    [theme=dark] .colab-df-convert {\n",
              "      background-color: #3B4455;\n",
              "      fill: #D2E3FC;\n",
              "    }\n",
              "\n",
              "    [theme=dark] .colab-df-convert:hover {\n",
              "      background-color: #434B5C;\n",
              "      box-shadow: 0px 1px 3px 1px rgba(0, 0, 0, 0.15);\n",
              "      filter: drop-shadow(0px 1px 2px rgba(0, 0, 0, 0.3));\n",
              "      fill: #FFFFFF;\n",
              "    }\n",
              "  </style>\n",
              "\n",
              "    <script>\n",
              "      const buttonEl =\n",
              "        document.querySelector('#df-eb12ae2a-b974-4674-8e80-78da8e7cfae4 button.colab-df-convert');\n",
              "      buttonEl.style.display =\n",
              "        google.colab.kernel.accessAllowed ? 'block' : 'none';\n",
              "\n",
              "      async function convertToInteractive(key) {\n",
              "        const element = document.querySelector('#df-eb12ae2a-b974-4674-8e80-78da8e7cfae4');\n",
              "        const dataTable =\n",
              "          await google.colab.kernel.invokeFunction('convertToInteractive',\n",
              "                                                    [key], {});\n",
              "        if (!dataTable) return;\n",
              "\n",
              "        const docLinkHtml = 'Like what you see? Visit the ' +\n",
              "          '<a target=\"_blank\" href=https://colab.research.google.com/notebooks/data_table.ipynb>data table notebook</a>'\n",
              "          + ' to learn more about interactive tables.';\n",
              "        element.innerHTML = '';\n",
              "        dataTable['output_type'] = 'display_data';\n",
              "        await google.colab.output.renderOutput(dataTable, element);\n",
              "        const docLink = document.createElement('div');\n",
              "        docLink.innerHTML = docLinkHtml;\n",
              "        element.appendChild(docLink);\n",
              "      }\n",
              "    </script>\n",
              "  </div>\n",
              "\n",
              "\n",
              "<div id=\"df-3a36ca81-1295-49eb-8ef2-570e5c4f671b\">\n",
              "  <button class=\"colab-df-quickchart\" onclick=\"quickchart('df-3a36ca81-1295-49eb-8ef2-570e5c4f671b')\"\n",
              "            title=\"Suggest charts.\"\n",
              "            style=\"display:none;\">\n",
              "\n",
              "<svg xmlns=\"http://www.w3.org/2000/svg\" height=\"24px\"viewBox=\"0 0 24 24\"\n",
              "     width=\"24px\">\n",
              "    <g>\n",
              "        <path d=\"M19 3H5c-1.1 0-2 .9-2 2v14c0 1.1.9 2 2 2h14c1.1 0 2-.9 2-2V5c0-1.1-.9-2-2-2zM9 17H7v-7h2v7zm4 0h-2V7h2v10zm4 0h-2v-4h2v4z\"/>\n",
              "    </g>\n",
              "</svg>\n",
              "  </button>\n",
              "\n",
              "<style>\n",
              "  .colab-df-quickchart {\n",
              "    background-color: #E8F0FE;\n",
              "    border: none;\n",
              "    border-radius: 50%;\n",
              "    cursor: pointer;\n",
              "    display: none;\n",
              "    fill: #1967D2;\n",
              "    height: 32px;\n",
              "    padding: 0 0 0 0;\n",
              "    width: 32px;\n",
              "  }\n",
              "\n",
              "  .colab-df-quickchart:hover {\n",
              "    background-color: #E2EBFA;\n",
              "    box-shadow: 0px 1px 2px rgba(60, 64, 67, 0.3), 0px 1px 3px 1px rgba(60, 64, 67, 0.15);\n",
              "    fill: #174EA6;\n",
              "  }\n",
              "\n",
              "  [theme=dark] .colab-df-quickchart {\n",
              "    background-color: #3B4455;\n",
              "    fill: #D2E3FC;\n",
              "  }\n",
              "\n",
              "  [theme=dark] .colab-df-quickchart:hover {\n",
              "    background-color: #434B5C;\n",
              "    box-shadow: 0px 1px 3px 1px rgba(0, 0, 0, 0.15);\n",
              "    filter: drop-shadow(0px 1px 2px rgba(0, 0, 0, 0.3));\n",
              "    fill: #FFFFFF;\n",
              "  }\n",
              "</style>\n",
              "\n",
              "  <script>\n",
              "    async function quickchart(key) {\n",
              "      const charts = await google.colab.kernel.invokeFunction(\n",
              "          'suggestCharts', [key], {});\n",
              "    }\n",
              "    (() => {\n",
              "      let quickchartButtonEl =\n",
              "        document.querySelector('#df-3a36ca81-1295-49eb-8ef2-570e5c4f671b button');\n",
              "      quickchartButtonEl.style.display =\n",
              "        google.colab.kernel.accessAllowed ? 'block' : 'none';\n",
              "    })();\n",
              "  </script>\n",
              "</div>\n",
              "    </div>\n",
              "  </div>\n"
            ]
          },
          "metadata": {},
          "execution_count": 122
        }
      ]
    },
    {
      "cell_type": "code",
      "source": [
        "# Drop the columns"
      ],
      "metadata": {
        "id": "1u8GWnc6gbYw"
      },
      "execution_count": 123,
      "outputs": []
    },
    {
      "cell_type": "code",
      "source": [
        "df = df.drop(columns=['Node_id'])\n",
        "df = df.drop(columns=['Broadcast_ID'])"
      ],
      "metadata": {
        "id": "ANXgB8STubxy"
      },
      "execution_count": 124,
      "outputs": []
    },
    {
      "cell_type": "markdown",
      "source": [
        "#Changing the data type by One Hot Encoder & Label Encoder"
      ],
      "metadata": {
        "id": "jWK9gYXEpNQR"
      }
    },
    {
      "cell_type": "code",
      "source": [
        "# Changing the data type of the (\"type\",\"behaviour\") from OBJECT into INTEGER by using the OHe and Le --> One Hot Encoder & Label Encoder"
      ],
      "metadata": {
        "id": "m_zO3TJ8g7Sn"
      },
      "execution_count": 125,
      "outputs": []
    },
    {
      "cell_type": "code",
      "source": [
        "cat_columns = df.select_dtypes(['object']).columns\n",
        "from sklearn.preprocessing import LabelEncoder\n",
        "label_encoder = LabelEncoder()\n",
        "df[cat_columns] = df[cat_columns].apply(LabelEncoder().fit_transform)\n",
        "df"
      ],
      "metadata": {
        "id": "-I0-80q6yP3W",
        "colab": {
          "base_uri": "https://localhost:8080/",
          "height": 0
        },
        "outputId": "d4ebd7b5-feed-4b26-8566-3847a2615ae4"
      },
      "execution_count": 126,
      "outputs": [
        {
          "output_type": "execute_result",
          "data": {
            "text/plain": [
              "       Event       Time  S_Node  Rest_Energy  Trace_Level  Mac_Type_Pckt  \\\n",
              "0          1   0.100000      79   600.000000          5.0            0.0   \n",
              "1          2   0.100963      78   599.979723          5.0          800.0   \n",
              "2          2   0.100963      76   599.979722          5.0          800.0   \n",
              "3          2   0.100964      75   599.979722          5.0          800.0   \n",
              "4          2   0.100964     118   599.979722          5.0          800.0   \n",
              "...      ...        ...     ...          ...          ...            ...   \n",
              "49995      2  73.145496      62    45.015145          5.0          800.0   \n",
              "49996      2  73.145496     110    45.015145          5.0          800.0   \n",
              "49997      1  45.015145      47    45.015145          5.0          800.0   \n",
              "49998      4  73.145837     136    45.015145          5.0          800.0   \n",
              "49999      4  73.145837     135   585.132669          5.0          800.0   \n",
              "\n",
              "       Source_IP_Port  Des_IP_Port  Packet_Size  TTL  Hop_Count  \\\n",
              "0              79.255        1.255         48.0   30          1   \n",
              "1              79.255        1.255         48.0   30          1   \n",
              "2              79.255        1.255         48.0   30          1   \n",
              "3              79.255        1.255         48.0   30          1   \n",
              "4              79.255        1.255         48.0   30          1   \n",
              "...               ...          ...          ...  ...        ...   \n",
              "49995          67.255        1.255         48.0   27          4   \n",
              "49996          67.255        1.255         48.0   27          4   \n",
              "49997          47.255        1.255         48.0   27          4   \n",
              "49998         137.255        1.255        106.0   27          4   \n",
              "49999         137.255        1.255        106.0   27          4   \n",
              "\n",
              "       Dest_Node_Num  Dest_Seq_Num  Src_Node_ID  Src_Seq_Num  behaviour  Type  \n",
              "0              100.0           0.0           79            4          0     3  \n",
              "1              100.0           0.0           79            4          0     3  \n",
              "2              100.0           0.0           79            4          0     3  \n",
              "3              100.0           0.0           79            4          0     3  \n",
              "4              100.0           0.0           79            4          0     3  \n",
              "...              ...           ...          ...          ...        ...   ...  \n",
              "49995           37.0           0.0           18            6          1     0  \n",
              "49996           37.0           0.0           18            6          1     1  \n",
              "49997           37.0           0.0           18            6          1     1  \n",
              "49998           37.0           0.0           18            6          1     1  \n",
              "49999           37.0           0.0           18            6          1     1  \n",
              "\n",
              "[50000 rows x 17 columns]"
            ],
            "text/html": [
              "\n",
              "  <div id=\"df-3a3809a6-3076-4e0f-81e1-757414db141a\" class=\"colab-df-container\">\n",
              "    <div>\n",
              "<style scoped>\n",
              "    .dataframe tbody tr th:only-of-type {\n",
              "        vertical-align: middle;\n",
              "    }\n",
              "\n",
              "    .dataframe tbody tr th {\n",
              "        vertical-align: top;\n",
              "    }\n",
              "\n",
              "    .dataframe thead th {\n",
              "        text-align: right;\n",
              "    }\n",
              "</style>\n",
              "<table border=\"1\" class=\"dataframe\">\n",
              "  <thead>\n",
              "    <tr style=\"text-align: right;\">\n",
              "      <th></th>\n",
              "      <th>Event</th>\n",
              "      <th>Time</th>\n",
              "      <th>S_Node</th>\n",
              "      <th>Rest_Energy</th>\n",
              "      <th>Trace_Level</th>\n",
              "      <th>Mac_Type_Pckt</th>\n",
              "      <th>Source_IP_Port</th>\n",
              "      <th>Des_IP_Port</th>\n",
              "      <th>Packet_Size</th>\n",
              "      <th>TTL</th>\n",
              "      <th>Hop_Count</th>\n",
              "      <th>Dest_Node_Num</th>\n",
              "      <th>Dest_Seq_Num</th>\n",
              "      <th>Src_Node_ID</th>\n",
              "      <th>Src_Seq_Num</th>\n",
              "      <th>behaviour</th>\n",
              "      <th>Type</th>\n",
              "    </tr>\n",
              "  </thead>\n",
              "  <tbody>\n",
              "    <tr>\n",
              "      <th>0</th>\n",
              "      <td>1</td>\n",
              "      <td>0.100000</td>\n",
              "      <td>79</td>\n",
              "      <td>600.000000</td>\n",
              "      <td>5.0</td>\n",
              "      <td>0.0</td>\n",
              "      <td>79.255</td>\n",
              "      <td>1.255</td>\n",
              "      <td>48.0</td>\n",
              "      <td>30</td>\n",
              "      <td>1</td>\n",
              "      <td>100.0</td>\n",
              "      <td>0.0</td>\n",
              "      <td>79</td>\n",
              "      <td>4</td>\n",
              "      <td>0</td>\n",
              "      <td>3</td>\n",
              "    </tr>\n",
              "    <tr>\n",
              "      <th>1</th>\n",
              "      <td>2</td>\n",
              "      <td>0.100963</td>\n",
              "      <td>78</td>\n",
              "      <td>599.979723</td>\n",
              "      <td>5.0</td>\n",
              "      <td>800.0</td>\n",
              "      <td>79.255</td>\n",
              "      <td>1.255</td>\n",
              "      <td>48.0</td>\n",
              "      <td>30</td>\n",
              "      <td>1</td>\n",
              "      <td>100.0</td>\n",
              "      <td>0.0</td>\n",
              "      <td>79</td>\n",
              "      <td>4</td>\n",
              "      <td>0</td>\n",
              "      <td>3</td>\n",
              "    </tr>\n",
              "    <tr>\n",
              "      <th>2</th>\n",
              "      <td>2</td>\n",
              "      <td>0.100963</td>\n",
              "      <td>76</td>\n",
              "      <td>599.979722</td>\n",
              "      <td>5.0</td>\n",
              "      <td>800.0</td>\n",
              "      <td>79.255</td>\n",
              "      <td>1.255</td>\n",
              "      <td>48.0</td>\n",
              "      <td>30</td>\n",
              "      <td>1</td>\n",
              "      <td>100.0</td>\n",
              "      <td>0.0</td>\n",
              "      <td>79</td>\n",
              "      <td>4</td>\n",
              "      <td>0</td>\n",
              "      <td>3</td>\n",
              "    </tr>\n",
              "    <tr>\n",
              "      <th>3</th>\n",
              "      <td>2</td>\n",
              "      <td>0.100964</td>\n",
              "      <td>75</td>\n",
              "      <td>599.979722</td>\n",
              "      <td>5.0</td>\n",
              "      <td>800.0</td>\n",
              "      <td>79.255</td>\n",
              "      <td>1.255</td>\n",
              "      <td>48.0</td>\n",
              "      <td>30</td>\n",
              "      <td>1</td>\n",
              "      <td>100.0</td>\n",
              "      <td>0.0</td>\n",
              "      <td>79</td>\n",
              "      <td>4</td>\n",
              "      <td>0</td>\n",
              "      <td>3</td>\n",
              "    </tr>\n",
              "    <tr>\n",
              "      <th>4</th>\n",
              "      <td>2</td>\n",
              "      <td>0.100964</td>\n",
              "      <td>118</td>\n",
              "      <td>599.979722</td>\n",
              "      <td>5.0</td>\n",
              "      <td>800.0</td>\n",
              "      <td>79.255</td>\n",
              "      <td>1.255</td>\n",
              "      <td>48.0</td>\n",
              "      <td>30</td>\n",
              "      <td>1</td>\n",
              "      <td>100.0</td>\n",
              "      <td>0.0</td>\n",
              "      <td>79</td>\n",
              "      <td>4</td>\n",
              "      <td>0</td>\n",
              "      <td>3</td>\n",
              "    </tr>\n",
              "    <tr>\n",
              "      <th>...</th>\n",
              "      <td>...</td>\n",
              "      <td>...</td>\n",
              "      <td>...</td>\n",
              "      <td>...</td>\n",
              "      <td>...</td>\n",
              "      <td>...</td>\n",
              "      <td>...</td>\n",
              "      <td>...</td>\n",
              "      <td>...</td>\n",
              "      <td>...</td>\n",
              "      <td>...</td>\n",
              "      <td>...</td>\n",
              "      <td>...</td>\n",
              "      <td>...</td>\n",
              "      <td>...</td>\n",
              "      <td>...</td>\n",
              "      <td>...</td>\n",
              "    </tr>\n",
              "    <tr>\n",
              "      <th>49995</th>\n",
              "      <td>2</td>\n",
              "      <td>73.145496</td>\n",
              "      <td>62</td>\n",
              "      <td>45.015145</td>\n",
              "      <td>5.0</td>\n",
              "      <td>800.0</td>\n",
              "      <td>67.255</td>\n",
              "      <td>1.255</td>\n",
              "      <td>48.0</td>\n",
              "      <td>27</td>\n",
              "      <td>4</td>\n",
              "      <td>37.0</td>\n",
              "      <td>0.0</td>\n",
              "      <td>18</td>\n",
              "      <td>6</td>\n",
              "      <td>1</td>\n",
              "      <td>0</td>\n",
              "    </tr>\n",
              "    <tr>\n",
              "      <th>49996</th>\n",
              "      <td>2</td>\n",
              "      <td>73.145496</td>\n",
              "      <td>110</td>\n",
              "      <td>45.015145</td>\n",
              "      <td>5.0</td>\n",
              "      <td>800.0</td>\n",
              "      <td>67.255</td>\n",
              "      <td>1.255</td>\n",
              "      <td>48.0</td>\n",
              "      <td>27</td>\n",
              "      <td>4</td>\n",
              "      <td>37.0</td>\n",
              "      <td>0.0</td>\n",
              "      <td>18</td>\n",
              "      <td>6</td>\n",
              "      <td>1</td>\n",
              "      <td>1</td>\n",
              "    </tr>\n",
              "    <tr>\n",
              "      <th>49997</th>\n",
              "      <td>1</td>\n",
              "      <td>45.015145</td>\n",
              "      <td>47</td>\n",
              "      <td>45.015145</td>\n",
              "      <td>5.0</td>\n",
              "      <td>800.0</td>\n",
              "      <td>47.255</td>\n",
              "      <td>1.255</td>\n",
              "      <td>48.0</td>\n",
              "      <td>27</td>\n",
              "      <td>4</td>\n",
              "      <td>37.0</td>\n",
              "      <td>0.0</td>\n",
              "      <td>18</td>\n",
              "      <td>6</td>\n",
              "      <td>1</td>\n",
              "      <td>1</td>\n",
              "    </tr>\n",
              "    <tr>\n",
              "      <th>49998</th>\n",
              "      <td>4</td>\n",
              "      <td>73.145837</td>\n",
              "      <td>136</td>\n",
              "      <td>45.015145</td>\n",
              "      <td>5.0</td>\n",
              "      <td>800.0</td>\n",
              "      <td>137.255</td>\n",
              "      <td>1.255</td>\n",
              "      <td>106.0</td>\n",
              "      <td>27</td>\n",
              "      <td>4</td>\n",
              "      <td>37.0</td>\n",
              "      <td>0.0</td>\n",
              "      <td>18</td>\n",
              "      <td>6</td>\n",
              "      <td>1</td>\n",
              "      <td>1</td>\n",
              "    </tr>\n",
              "    <tr>\n",
              "      <th>49999</th>\n",
              "      <td>4</td>\n",
              "      <td>73.145837</td>\n",
              "      <td>135</td>\n",
              "      <td>585.132669</td>\n",
              "      <td>5.0</td>\n",
              "      <td>800.0</td>\n",
              "      <td>137.255</td>\n",
              "      <td>1.255</td>\n",
              "      <td>106.0</td>\n",
              "      <td>27</td>\n",
              "      <td>4</td>\n",
              "      <td>37.0</td>\n",
              "      <td>0.0</td>\n",
              "      <td>18</td>\n",
              "      <td>6</td>\n",
              "      <td>1</td>\n",
              "      <td>1</td>\n",
              "    </tr>\n",
              "  </tbody>\n",
              "</table>\n",
              "<p>50000 rows × 17 columns</p>\n",
              "</div>\n",
              "    <div class=\"colab-df-buttons\">\n",
              "\n",
              "  <div class=\"colab-df-container\">\n",
              "    <button class=\"colab-df-convert\" onclick=\"convertToInteractive('df-3a3809a6-3076-4e0f-81e1-757414db141a')\"\n",
              "            title=\"Convert this dataframe to an interactive table.\"\n",
              "            style=\"display:none;\">\n",
              "\n",
              "  <svg xmlns=\"http://www.w3.org/2000/svg\" height=\"24px\" viewBox=\"0 -960 960 960\">\n",
              "    <path d=\"M120-120v-720h720v720H120Zm60-500h600v-160H180v160Zm220 220h160v-160H400v160Zm0 220h160v-160H400v160ZM180-400h160v-160H180v160Zm440 0h160v-160H620v160ZM180-180h160v-160H180v160Zm440 0h160v-160H620v160Z\"/>\n",
              "  </svg>\n",
              "    </button>\n",
              "\n",
              "  <style>\n",
              "    .colab-df-container {\n",
              "      display:flex;\n",
              "      gap: 12px;\n",
              "    }\n",
              "\n",
              "    .colab-df-convert {\n",
              "      background-color: #E8F0FE;\n",
              "      border: none;\n",
              "      border-radius: 50%;\n",
              "      cursor: pointer;\n",
              "      display: none;\n",
              "      fill: #1967D2;\n",
              "      height: 32px;\n",
              "      padding: 0 0 0 0;\n",
              "      width: 32px;\n",
              "    }\n",
              "\n",
              "    .colab-df-convert:hover {\n",
              "      background-color: #E2EBFA;\n",
              "      box-shadow: 0px 1px 2px rgba(60, 64, 67, 0.3), 0px 1px 3px 1px rgba(60, 64, 67, 0.15);\n",
              "      fill: #174EA6;\n",
              "    }\n",
              "\n",
              "    .colab-df-buttons div {\n",
              "      margin-bottom: 4px;\n",
              "    }\n",
              "\n",
              "    [theme=dark] .colab-df-convert {\n",
              "      background-color: #3B4455;\n",
              "      fill: #D2E3FC;\n",
              "    }\n",
              "\n",
              "    [theme=dark] .colab-df-convert:hover {\n",
              "      background-color: #434B5C;\n",
              "      box-shadow: 0px 1px 3px 1px rgba(0, 0, 0, 0.15);\n",
              "      filter: drop-shadow(0px 1px 2px rgba(0, 0, 0, 0.3));\n",
              "      fill: #FFFFFF;\n",
              "    }\n",
              "  </style>\n",
              "\n",
              "    <script>\n",
              "      const buttonEl =\n",
              "        document.querySelector('#df-3a3809a6-3076-4e0f-81e1-757414db141a button.colab-df-convert');\n",
              "      buttonEl.style.display =\n",
              "        google.colab.kernel.accessAllowed ? 'block' : 'none';\n",
              "\n",
              "      async function convertToInteractive(key) {\n",
              "        const element = document.querySelector('#df-3a3809a6-3076-4e0f-81e1-757414db141a');\n",
              "        const dataTable =\n",
              "          await google.colab.kernel.invokeFunction('convertToInteractive',\n",
              "                                                    [key], {});\n",
              "        if (!dataTable) return;\n",
              "\n",
              "        const docLinkHtml = 'Like what you see? Visit the ' +\n",
              "          '<a target=\"_blank\" href=https://colab.research.google.com/notebooks/data_table.ipynb>data table notebook</a>'\n",
              "          + ' to learn more about interactive tables.';\n",
              "        element.innerHTML = '';\n",
              "        dataTable['output_type'] = 'display_data';\n",
              "        await google.colab.output.renderOutput(dataTable, element);\n",
              "        const docLink = document.createElement('div');\n",
              "        docLink.innerHTML = docLinkHtml;\n",
              "        element.appendChild(docLink);\n",
              "      }\n",
              "    </script>\n",
              "  </div>\n",
              "\n",
              "\n",
              "<div id=\"df-fdeb4210-db80-4ac1-8306-282a3ad36228\">\n",
              "  <button class=\"colab-df-quickchart\" onclick=\"quickchart('df-fdeb4210-db80-4ac1-8306-282a3ad36228')\"\n",
              "            title=\"Suggest charts.\"\n",
              "            style=\"display:none;\">\n",
              "\n",
              "<svg xmlns=\"http://www.w3.org/2000/svg\" height=\"24px\"viewBox=\"0 0 24 24\"\n",
              "     width=\"24px\">\n",
              "    <g>\n",
              "        <path d=\"M19 3H5c-1.1 0-2 .9-2 2v14c0 1.1.9 2 2 2h14c1.1 0 2-.9 2-2V5c0-1.1-.9-2-2-2zM9 17H7v-7h2v7zm4 0h-2V7h2v10zm4 0h-2v-4h2v4z\"/>\n",
              "    </g>\n",
              "</svg>\n",
              "  </button>\n",
              "\n",
              "<style>\n",
              "  .colab-df-quickchart {\n",
              "    background-color: #E8F0FE;\n",
              "    border: none;\n",
              "    border-radius: 50%;\n",
              "    cursor: pointer;\n",
              "    display: none;\n",
              "    fill: #1967D2;\n",
              "    height: 32px;\n",
              "    padding: 0 0 0 0;\n",
              "    width: 32px;\n",
              "  }\n",
              "\n",
              "  .colab-df-quickchart:hover {\n",
              "    background-color: #E2EBFA;\n",
              "    box-shadow: 0px 1px 2px rgba(60, 64, 67, 0.3), 0px 1px 3px 1px rgba(60, 64, 67, 0.15);\n",
              "    fill: #174EA6;\n",
              "  }\n",
              "\n",
              "  [theme=dark] .colab-df-quickchart {\n",
              "    background-color: #3B4455;\n",
              "    fill: #D2E3FC;\n",
              "  }\n",
              "\n",
              "  [theme=dark] .colab-df-quickchart:hover {\n",
              "    background-color: #434B5C;\n",
              "    box-shadow: 0px 1px 3px 1px rgba(0, 0, 0, 0.15);\n",
              "    filter: drop-shadow(0px 1px 2px rgba(0, 0, 0, 0.3));\n",
              "    fill: #FFFFFF;\n",
              "  }\n",
              "</style>\n",
              "\n",
              "  <script>\n",
              "    async function quickchart(key) {\n",
              "      const charts = await google.colab.kernel.invokeFunction(\n",
              "          'suggestCharts', [key], {});\n",
              "    }\n",
              "    (() => {\n",
              "      let quickchartButtonEl =\n",
              "        document.querySelector('#df-fdeb4210-db80-4ac1-8306-282a3ad36228 button');\n",
              "      quickchartButtonEl.style.display =\n",
              "        google.colab.kernel.accessAllowed ? 'block' : 'none';\n",
              "    })();\n",
              "  </script>\n",
              "</div>\n",
              "    </div>\n",
              "  </div>\n"
            ]
          },
          "metadata": {},
          "execution_count": 126
        }
      ]
    },
    {
      "cell_type": "markdown",
      "source": [
        "# Sipllting the data set into two types       1) Train       2) Test"
      ],
      "metadata": {
        "id": "6Q2gHxc0pFVy"
      }
    },
    {
      "cell_type": "code",
      "source": [
        "# Sipllting the data set into two types       1) Train       2) Test"
      ],
      "metadata": {
        "id": "OhIB4cMAg54g"
      },
      "execution_count": 127,
      "outputs": []
    },
    {
      "cell_type": "code",
      "source": [
        "from sklearn.model_selection import train_test_split"
      ],
      "metadata": {
        "id": "F1LmFhjDhja-"
      },
      "execution_count": 128,
      "outputs": []
    },
    {
      "cell_type": "code",
      "source": [
        "X = df.drop('behaviour' , axis=1)\n",
        "y = df['behaviour']\n",
        "X_train, X_test, y_train, y_test = train_test_split(X, y, test_size=0.1, random_state=0)"
      ],
      "metadata": {
        "id": "ijwcq6TPhz7Y"
      },
      "execution_count": 129,
      "outputs": []
    },
    {
      "cell_type": "markdown",
      "source": [
        "# 1) Random Forest Classifier Model"
      ],
      "metadata": {
        "id": "2_pIjlmZo1g8"
      }
    },
    {
      "cell_type": "code",
      "source": [
        "# using the model for machine learning and first I'm going to use the Random Forest"
      ],
      "metadata": {
        "id": "v0qq_xfmN6tC"
      },
      "execution_count": 130,
      "outputs": []
    },
    {
      "cell_type": "code",
      "source": [
        "from sklearn.ensemble import RandomForestClassifier\n",
        "from sklearn.metrics import accuracy_score"
      ],
      "metadata": {
        "id": "aicYdofINamd"
      },
      "execution_count": 131,
      "outputs": []
    },
    {
      "cell_type": "code",
      "source": [
        "clf = RandomForestClassifier(random_state=0)"
      ],
      "metadata": {
        "id": "K1BoiTV_NWB3"
      },
      "execution_count": 132,
      "outputs": []
    },
    {
      "cell_type": "code",
      "source": [
        "clf.fit(X_train, y_train)\n",
        "y_pred_random = clf.predict(X_test)"
      ],
      "metadata": {
        "id": "1xKboFzcirmG"
      },
      "execution_count": 133,
      "outputs": []
    },
    {
      "cell_type": "code",
      "source": [
        "random_accuracy = accuracy_score(y_test, y_pred_random)\n",
        "print(\"Accuracy:\", random_accuracy)"
      ],
      "metadata": {
        "colab": {
          "base_uri": "https://localhost:8080/"
        },
        "id": "2qwibntQNkOV",
        "outputId": "4ef87d7f-6aa0-4cc2-de01-5f310e4e4929"
      },
      "execution_count": 134,
      "outputs": [
        {
          "output_type": "stream",
          "name": "stdout",
          "text": [
            "Accuracy: 1.0\n"
          ]
        }
      ]
    },
    {
      "cell_type": "markdown",
      "source": [
        "#2) K Neighbors Classifier (KNN) Model"
      ],
      "metadata": {
        "id": "fwy02LHBocgU"
      }
    },
    {
      "cell_type": "code",
      "source": [
        "# importing KNN algorithm\n",
        "\n",
        "from sklearn.neighbors import KNeighborsClassifier\n",
        "\n",
        "classifier = KNeighborsClassifier(n_neighbors=5)\n",
        "classifier.fit(X_train , y_train)\n",
        "y_pred_KNN = classifier.predict(X_test)"
      ],
      "metadata": {
        "id": "Tu9lFDhrD2Cd"
      },
      "execution_count": 135,
      "outputs": []
    },
    {
      "cell_type": "code",
      "source": [
        "KNN_accuracy = accuracy_score(y_test, y_pred_KNN)\n",
        "print(\"Accuracy:\", KNN_accuracy)"
      ],
      "metadata": {
        "id": "Q3xoUKNwiyNE",
        "colab": {
          "base_uri": "https://localhost:8080/"
        },
        "outputId": "ef7b1121-7bce-4fca-8f19-07322b2d72a7"
      },
      "execution_count": 136,
      "outputs": [
        {
          "output_type": "stream",
          "name": "stdout",
          "text": [
            "Accuracy: 0.9792\n"
          ]
        }
      ]
    },
    {
      "cell_type": "markdown",
      "source": [
        "#3) Decision Tree Classifier Model"
      ],
      "metadata": {
        "id": "TyeXBjIyoSU3"
      }
    },
    {
      "cell_type": "code",
      "source": [
        "from sklearn.tree import DecisionTreeClassifier"
      ],
      "metadata": {
        "id": "xuuvNYQ0NuOj"
      },
      "execution_count": 137,
      "outputs": []
    },
    {
      "cell_type": "code",
      "source": [
        "y_pred_tree = clf.predict(X_test)"
      ],
      "metadata": {
        "id": "L83AA15_O167"
      },
      "execution_count": 138,
      "outputs": []
    },
    {
      "cell_type": "code",
      "source": [
        "tree_accuracy = accuracy_score(y_test, y_pred_tree)\n",
        "print(\"Decision Tree Accuracy:\", tree_accuracy)"
      ],
      "metadata": {
        "colab": {
          "base_uri": "https://localhost:8080/"
        },
        "id": "E_SiXVUBO_sv",
        "outputId": "aced85c1-b0d2-4811-8c73-e633270b51e4"
      },
      "execution_count": 139,
      "outputs": [
        {
          "output_type": "stream",
          "name": "stdout",
          "text": [
            "Decision Tree Accuracy: 1.0\n"
          ]
        }
      ]
    },
    {
      "cell_type": "markdown",
      "source": [
        "#Virtualization for the elements in the Data set"
      ],
      "metadata": {
        "id": "Af5aqZpIdOyg"
      }
    },
    {
      "cell_type": "code",
      "source": [
        "df"
      ],
      "metadata": {
        "colab": {
          "base_uri": "https://localhost:8080/",
          "height": 424
        },
        "id": "EXH9fnuqdfdi",
        "outputId": "6dfccd49-09ce-4c31-aa98-34aa99fee02e"
      },
      "execution_count": 140,
      "outputs": [
        {
          "output_type": "execute_result",
          "data": {
            "text/plain": [
              "       Event       Time  S_Node  Rest_Energy  Trace_Level  Mac_Type_Pckt  \\\n",
              "0          1   0.100000      79   600.000000          5.0            0.0   \n",
              "1          2   0.100963      78   599.979723          5.0          800.0   \n",
              "2          2   0.100963      76   599.979722          5.0          800.0   \n",
              "3          2   0.100964      75   599.979722          5.0          800.0   \n",
              "4          2   0.100964     118   599.979722          5.0          800.0   \n",
              "...      ...        ...     ...          ...          ...            ...   \n",
              "49995      2  73.145496      62    45.015145          5.0          800.0   \n",
              "49996      2  73.145496     110    45.015145          5.0          800.0   \n",
              "49997      1  45.015145      47    45.015145          5.0          800.0   \n",
              "49998      4  73.145837     136    45.015145          5.0          800.0   \n",
              "49999      4  73.145837     135   585.132669          5.0          800.0   \n",
              "\n",
              "       Source_IP_Port  Des_IP_Port  Packet_Size  TTL  Hop_Count  \\\n",
              "0              79.255        1.255         48.0   30          1   \n",
              "1              79.255        1.255         48.0   30          1   \n",
              "2              79.255        1.255         48.0   30          1   \n",
              "3              79.255        1.255         48.0   30          1   \n",
              "4              79.255        1.255         48.0   30          1   \n",
              "...               ...          ...          ...  ...        ...   \n",
              "49995          67.255        1.255         48.0   27          4   \n",
              "49996          67.255        1.255         48.0   27          4   \n",
              "49997          47.255        1.255         48.0   27          4   \n",
              "49998         137.255        1.255        106.0   27          4   \n",
              "49999         137.255        1.255        106.0   27          4   \n",
              "\n",
              "       Dest_Node_Num  Dest_Seq_Num  Src_Node_ID  Src_Seq_Num  behaviour  Type  \n",
              "0              100.0           0.0           79            4          0     3  \n",
              "1              100.0           0.0           79            4          0     3  \n",
              "2              100.0           0.0           79            4          0     3  \n",
              "3              100.0           0.0           79            4          0     3  \n",
              "4              100.0           0.0           79            4          0     3  \n",
              "...              ...           ...          ...          ...        ...   ...  \n",
              "49995           37.0           0.0           18            6          1     0  \n",
              "49996           37.0           0.0           18            6          1     1  \n",
              "49997           37.0           0.0           18            6          1     1  \n",
              "49998           37.0           0.0           18            6          1     1  \n",
              "49999           37.0           0.0           18            6          1     1  \n",
              "\n",
              "[50000 rows x 17 columns]"
            ],
            "text/html": [
              "\n",
              "  <div id=\"df-7ea0026a-2c23-4a26-839d-464f178aa427\" class=\"colab-df-container\">\n",
              "    <div>\n",
              "<style scoped>\n",
              "    .dataframe tbody tr th:only-of-type {\n",
              "        vertical-align: middle;\n",
              "    }\n",
              "\n",
              "    .dataframe tbody tr th {\n",
              "        vertical-align: top;\n",
              "    }\n",
              "\n",
              "    .dataframe thead th {\n",
              "        text-align: right;\n",
              "    }\n",
              "</style>\n",
              "<table border=\"1\" class=\"dataframe\">\n",
              "  <thead>\n",
              "    <tr style=\"text-align: right;\">\n",
              "      <th></th>\n",
              "      <th>Event</th>\n",
              "      <th>Time</th>\n",
              "      <th>S_Node</th>\n",
              "      <th>Rest_Energy</th>\n",
              "      <th>Trace_Level</th>\n",
              "      <th>Mac_Type_Pckt</th>\n",
              "      <th>Source_IP_Port</th>\n",
              "      <th>Des_IP_Port</th>\n",
              "      <th>Packet_Size</th>\n",
              "      <th>TTL</th>\n",
              "      <th>Hop_Count</th>\n",
              "      <th>Dest_Node_Num</th>\n",
              "      <th>Dest_Seq_Num</th>\n",
              "      <th>Src_Node_ID</th>\n",
              "      <th>Src_Seq_Num</th>\n",
              "      <th>behaviour</th>\n",
              "      <th>Type</th>\n",
              "    </tr>\n",
              "  </thead>\n",
              "  <tbody>\n",
              "    <tr>\n",
              "      <th>0</th>\n",
              "      <td>1</td>\n",
              "      <td>0.100000</td>\n",
              "      <td>79</td>\n",
              "      <td>600.000000</td>\n",
              "      <td>5.0</td>\n",
              "      <td>0.0</td>\n",
              "      <td>79.255</td>\n",
              "      <td>1.255</td>\n",
              "      <td>48.0</td>\n",
              "      <td>30</td>\n",
              "      <td>1</td>\n",
              "      <td>100.0</td>\n",
              "      <td>0.0</td>\n",
              "      <td>79</td>\n",
              "      <td>4</td>\n",
              "      <td>0</td>\n",
              "      <td>3</td>\n",
              "    </tr>\n",
              "    <tr>\n",
              "      <th>1</th>\n",
              "      <td>2</td>\n",
              "      <td>0.100963</td>\n",
              "      <td>78</td>\n",
              "      <td>599.979723</td>\n",
              "      <td>5.0</td>\n",
              "      <td>800.0</td>\n",
              "      <td>79.255</td>\n",
              "      <td>1.255</td>\n",
              "      <td>48.0</td>\n",
              "      <td>30</td>\n",
              "      <td>1</td>\n",
              "      <td>100.0</td>\n",
              "      <td>0.0</td>\n",
              "      <td>79</td>\n",
              "      <td>4</td>\n",
              "      <td>0</td>\n",
              "      <td>3</td>\n",
              "    </tr>\n",
              "    <tr>\n",
              "      <th>2</th>\n",
              "      <td>2</td>\n",
              "      <td>0.100963</td>\n",
              "      <td>76</td>\n",
              "      <td>599.979722</td>\n",
              "      <td>5.0</td>\n",
              "      <td>800.0</td>\n",
              "      <td>79.255</td>\n",
              "      <td>1.255</td>\n",
              "      <td>48.0</td>\n",
              "      <td>30</td>\n",
              "      <td>1</td>\n",
              "      <td>100.0</td>\n",
              "      <td>0.0</td>\n",
              "      <td>79</td>\n",
              "      <td>4</td>\n",
              "      <td>0</td>\n",
              "      <td>3</td>\n",
              "    </tr>\n",
              "    <tr>\n",
              "      <th>3</th>\n",
              "      <td>2</td>\n",
              "      <td>0.100964</td>\n",
              "      <td>75</td>\n",
              "      <td>599.979722</td>\n",
              "      <td>5.0</td>\n",
              "      <td>800.0</td>\n",
              "      <td>79.255</td>\n",
              "      <td>1.255</td>\n",
              "      <td>48.0</td>\n",
              "      <td>30</td>\n",
              "      <td>1</td>\n",
              "      <td>100.0</td>\n",
              "      <td>0.0</td>\n",
              "      <td>79</td>\n",
              "      <td>4</td>\n",
              "      <td>0</td>\n",
              "      <td>3</td>\n",
              "    </tr>\n",
              "    <tr>\n",
              "      <th>4</th>\n",
              "      <td>2</td>\n",
              "      <td>0.100964</td>\n",
              "      <td>118</td>\n",
              "      <td>599.979722</td>\n",
              "      <td>5.0</td>\n",
              "      <td>800.0</td>\n",
              "      <td>79.255</td>\n",
              "      <td>1.255</td>\n",
              "      <td>48.0</td>\n",
              "      <td>30</td>\n",
              "      <td>1</td>\n",
              "      <td>100.0</td>\n",
              "      <td>0.0</td>\n",
              "      <td>79</td>\n",
              "      <td>4</td>\n",
              "      <td>0</td>\n",
              "      <td>3</td>\n",
              "    </tr>\n",
              "    <tr>\n",
              "      <th>...</th>\n",
              "      <td>...</td>\n",
              "      <td>...</td>\n",
              "      <td>...</td>\n",
              "      <td>...</td>\n",
              "      <td>...</td>\n",
              "      <td>...</td>\n",
              "      <td>...</td>\n",
              "      <td>...</td>\n",
              "      <td>...</td>\n",
              "      <td>...</td>\n",
              "      <td>...</td>\n",
              "      <td>...</td>\n",
              "      <td>...</td>\n",
              "      <td>...</td>\n",
              "      <td>...</td>\n",
              "      <td>...</td>\n",
              "      <td>...</td>\n",
              "    </tr>\n",
              "    <tr>\n",
              "      <th>49995</th>\n",
              "      <td>2</td>\n",
              "      <td>73.145496</td>\n",
              "      <td>62</td>\n",
              "      <td>45.015145</td>\n",
              "      <td>5.0</td>\n",
              "      <td>800.0</td>\n",
              "      <td>67.255</td>\n",
              "      <td>1.255</td>\n",
              "      <td>48.0</td>\n",
              "      <td>27</td>\n",
              "      <td>4</td>\n",
              "      <td>37.0</td>\n",
              "      <td>0.0</td>\n",
              "      <td>18</td>\n",
              "      <td>6</td>\n",
              "      <td>1</td>\n",
              "      <td>0</td>\n",
              "    </tr>\n",
              "    <tr>\n",
              "      <th>49996</th>\n",
              "      <td>2</td>\n",
              "      <td>73.145496</td>\n",
              "      <td>110</td>\n",
              "      <td>45.015145</td>\n",
              "      <td>5.0</td>\n",
              "      <td>800.0</td>\n",
              "      <td>67.255</td>\n",
              "      <td>1.255</td>\n",
              "      <td>48.0</td>\n",
              "      <td>27</td>\n",
              "      <td>4</td>\n",
              "      <td>37.0</td>\n",
              "      <td>0.0</td>\n",
              "      <td>18</td>\n",
              "      <td>6</td>\n",
              "      <td>1</td>\n",
              "      <td>1</td>\n",
              "    </tr>\n",
              "    <tr>\n",
              "      <th>49997</th>\n",
              "      <td>1</td>\n",
              "      <td>45.015145</td>\n",
              "      <td>47</td>\n",
              "      <td>45.015145</td>\n",
              "      <td>5.0</td>\n",
              "      <td>800.0</td>\n",
              "      <td>47.255</td>\n",
              "      <td>1.255</td>\n",
              "      <td>48.0</td>\n",
              "      <td>27</td>\n",
              "      <td>4</td>\n",
              "      <td>37.0</td>\n",
              "      <td>0.0</td>\n",
              "      <td>18</td>\n",
              "      <td>6</td>\n",
              "      <td>1</td>\n",
              "      <td>1</td>\n",
              "    </tr>\n",
              "    <tr>\n",
              "      <th>49998</th>\n",
              "      <td>4</td>\n",
              "      <td>73.145837</td>\n",
              "      <td>136</td>\n",
              "      <td>45.015145</td>\n",
              "      <td>5.0</td>\n",
              "      <td>800.0</td>\n",
              "      <td>137.255</td>\n",
              "      <td>1.255</td>\n",
              "      <td>106.0</td>\n",
              "      <td>27</td>\n",
              "      <td>4</td>\n",
              "      <td>37.0</td>\n",
              "      <td>0.0</td>\n",
              "      <td>18</td>\n",
              "      <td>6</td>\n",
              "      <td>1</td>\n",
              "      <td>1</td>\n",
              "    </tr>\n",
              "    <tr>\n",
              "      <th>49999</th>\n",
              "      <td>4</td>\n",
              "      <td>73.145837</td>\n",
              "      <td>135</td>\n",
              "      <td>585.132669</td>\n",
              "      <td>5.0</td>\n",
              "      <td>800.0</td>\n",
              "      <td>137.255</td>\n",
              "      <td>1.255</td>\n",
              "      <td>106.0</td>\n",
              "      <td>27</td>\n",
              "      <td>4</td>\n",
              "      <td>37.0</td>\n",
              "      <td>0.0</td>\n",
              "      <td>18</td>\n",
              "      <td>6</td>\n",
              "      <td>1</td>\n",
              "      <td>1</td>\n",
              "    </tr>\n",
              "  </tbody>\n",
              "</table>\n",
              "<p>50000 rows × 17 columns</p>\n",
              "</div>\n",
              "    <div class=\"colab-df-buttons\">\n",
              "\n",
              "  <div class=\"colab-df-container\">\n",
              "    <button class=\"colab-df-convert\" onclick=\"convertToInteractive('df-7ea0026a-2c23-4a26-839d-464f178aa427')\"\n",
              "            title=\"Convert this dataframe to an interactive table.\"\n",
              "            style=\"display:none;\">\n",
              "\n",
              "  <svg xmlns=\"http://www.w3.org/2000/svg\" height=\"24px\" viewBox=\"0 -960 960 960\">\n",
              "    <path d=\"M120-120v-720h720v720H120Zm60-500h600v-160H180v160Zm220 220h160v-160H400v160Zm0 220h160v-160H400v160ZM180-400h160v-160H180v160Zm440 0h160v-160H620v160ZM180-180h160v-160H180v160Zm440 0h160v-160H620v160Z\"/>\n",
              "  </svg>\n",
              "    </button>\n",
              "\n",
              "  <style>\n",
              "    .colab-df-container {\n",
              "      display:flex;\n",
              "      gap: 12px;\n",
              "    }\n",
              "\n",
              "    .colab-df-convert {\n",
              "      background-color: #E8F0FE;\n",
              "      border: none;\n",
              "      border-radius: 50%;\n",
              "      cursor: pointer;\n",
              "      display: none;\n",
              "      fill: #1967D2;\n",
              "      height: 32px;\n",
              "      padding: 0 0 0 0;\n",
              "      width: 32px;\n",
              "    }\n",
              "\n",
              "    .colab-df-convert:hover {\n",
              "      background-color: #E2EBFA;\n",
              "      box-shadow: 0px 1px 2px rgba(60, 64, 67, 0.3), 0px 1px 3px 1px rgba(60, 64, 67, 0.15);\n",
              "      fill: #174EA6;\n",
              "    }\n",
              "\n",
              "    .colab-df-buttons div {\n",
              "      margin-bottom: 4px;\n",
              "    }\n",
              "\n",
              "    [theme=dark] .colab-df-convert {\n",
              "      background-color: #3B4455;\n",
              "      fill: #D2E3FC;\n",
              "    }\n",
              "\n",
              "    [theme=dark] .colab-df-convert:hover {\n",
              "      background-color: #434B5C;\n",
              "      box-shadow: 0px 1px 3px 1px rgba(0, 0, 0, 0.15);\n",
              "      filter: drop-shadow(0px 1px 2px rgba(0, 0, 0, 0.3));\n",
              "      fill: #FFFFFF;\n",
              "    }\n",
              "  </style>\n",
              "\n",
              "    <script>\n",
              "      const buttonEl =\n",
              "        document.querySelector('#df-7ea0026a-2c23-4a26-839d-464f178aa427 button.colab-df-convert');\n",
              "      buttonEl.style.display =\n",
              "        google.colab.kernel.accessAllowed ? 'block' : 'none';\n",
              "\n",
              "      async function convertToInteractive(key) {\n",
              "        const element = document.querySelector('#df-7ea0026a-2c23-4a26-839d-464f178aa427');\n",
              "        const dataTable =\n",
              "          await google.colab.kernel.invokeFunction('convertToInteractive',\n",
              "                                                    [key], {});\n",
              "        if (!dataTable) return;\n",
              "\n",
              "        const docLinkHtml = 'Like what you see? Visit the ' +\n",
              "          '<a target=\"_blank\" href=https://colab.research.google.com/notebooks/data_table.ipynb>data table notebook</a>'\n",
              "          + ' to learn more about interactive tables.';\n",
              "        element.innerHTML = '';\n",
              "        dataTable['output_type'] = 'display_data';\n",
              "        await google.colab.output.renderOutput(dataTable, element);\n",
              "        const docLink = document.createElement('div');\n",
              "        docLink.innerHTML = docLinkHtml;\n",
              "        element.appendChild(docLink);\n",
              "      }\n",
              "    </script>\n",
              "  </div>\n",
              "\n",
              "\n",
              "<div id=\"df-05ccff52-6226-405b-9182-411e87207559\">\n",
              "  <button class=\"colab-df-quickchart\" onclick=\"quickchart('df-05ccff52-6226-405b-9182-411e87207559')\"\n",
              "            title=\"Suggest charts.\"\n",
              "            style=\"display:none;\">\n",
              "\n",
              "<svg xmlns=\"http://www.w3.org/2000/svg\" height=\"24px\"viewBox=\"0 0 24 24\"\n",
              "     width=\"24px\">\n",
              "    <g>\n",
              "        <path d=\"M19 3H5c-1.1 0-2 .9-2 2v14c0 1.1.9 2 2 2h14c1.1 0 2-.9 2-2V5c0-1.1-.9-2-2-2zM9 17H7v-7h2v7zm4 0h-2V7h2v10zm4 0h-2v-4h2v4z\"/>\n",
              "    </g>\n",
              "</svg>\n",
              "  </button>\n",
              "\n",
              "<style>\n",
              "  .colab-df-quickchart {\n",
              "    background-color: #E8F0FE;\n",
              "    border: none;\n",
              "    border-radius: 50%;\n",
              "    cursor: pointer;\n",
              "    display: none;\n",
              "    fill: #1967D2;\n",
              "    height: 32px;\n",
              "    padding: 0 0 0 0;\n",
              "    width: 32px;\n",
              "  }\n",
              "\n",
              "  .colab-df-quickchart:hover {\n",
              "    background-color: #E2EBFA;\n",
              "    box-shadow: 0px 1px 2px rgba(60, 64, 67, 0.3), 0px 1px 3px 1px rgba(60, 64, 67, 0.15);\n",
              "    fill: #174EA6;\n",
              "  }\n",
              "\n",
              "  [theme=dark] .colab-df-quickchart {\n",
              "    background-color: #3B4455;\n",
              "    fill: #D2E3FC;\n",
              "  }\n",
              "\n",
              "  [theme=dark] .colab-df-quickchart:hover {\n",
              "    background-color: #434B5C;\n",
              "    box-shadow: 0px 1px 3px 1px rgba(0, 0, 0, 0.15);\n",
              "    filter: drop-shadow(0px 1px 2px rgba(0, 0, 0, 0.3));\n",
              "    fill: #FFFFFF;\n",
              "  }\n",
              "</style>\n",
              "\n",
              "  <script>\n",
              "    async function quickchart(key) {\n",
              "      const charts = await google.colab.kernel.invokeFunction(\n",
              "          'suggestCharts', [key], {});\n",
              "    }\n",
              "    (() => {\n",
              "      let quickchartButtonEl =\n",
              "        document.querySelector('#df-05ccff52-6226-405b-9182-411e87207559 button');\n",
              "      quickchartButtonEl.style.display =\n",
              "        google.colab.kernel.accessAllowed ? 'block' : 'none';\n",
              "    })();\n",
              "  </script>\n",
              "</div>\n",
              "    </div>\n",
              "  </div>\n"
            ]
          },
          "metadata": {},
          "execution_count": 140
        }
      ]
    },
    {
      "cell_type": "code",
      "source": [
        "import matplotlib.pyplot as plt\n",
        "import seaborn as sns\n",
        "sns.set(color_codes = True)"
      ],
      "metadata": {
        "id": "FiBU_6I6PH7h"
      },
      "execution_count": 141,
      "outputs": []
    },
    {
      "cell_type": "code",
      "source": [
        "sns.displot(df['Type'])\n",
        "sns.displot(df['Event'])\n",
        "sns.displot(df['S_Node'])\n",
        "sns.displot(df['Rest_Energy'])\n",
        "sns.displot(df['Trace_Level'])\n",
        "sns.displot(df['Mac_Type_Pckt'])\n",
        "sns.displot(df['Source_IP_Port'])\n",
        "sns.displot(df['behaviour'])\n",
        "sns.displot(df['Dest_Node_Num'])"
      ],
      "metadata": {
        "colab": {
          "base_uri": "https://localhost:8080/",
          "height": 1000
        },
        "id": "J4AeRM02P6p4",
        "outputId": "fbf05839-9a8e-4aa4-9c3a-44d981cfa5dc"
      },
      "execution_count": 142,
      "outputs": [
        {
          "output_type": "execute_result",
          "data": {
            "text/plain": [
              "<seaborn.axisgrid.FacetGrid at 0x7e49fc8dd930>"
            ]
          },
          "metadata": {},
          "execution_count": 142
        },
        {
          "output_type": "display_data",
          "data": {
            "text/plain": [
              "<Figure size 500x500 with 1 Axes>"
            ],
            "image/png": "[encoded data removed]"
          },
          "metadata": {}
        },
        {
          "output_type": "display_data",
          "data": {
            "text/plain": [
              "<Figure size 500x500 with 1 Axes>"
            ],
            "image/png": "[encoded data removed]"
          },
          "metadata": {}
        },
        {
          "output_type": "display_data",
          "data": {
            "text/plain": [
              "<Figure size 500x500 with 1 Axes>"
            ],
            "image/png": "[encoded data removed]"
          },
          "metadata": {}
        },
        {
          "output_type": "display_data",
          "data": {
            "text/plain": [
              "<Figure size 500x500 with 1 Axes>"
            ],
            "image/png": "[encoded data removed]"
          },
          "metadata": {}
        },
        {
          "output_type": "display_data",
          "data": {
            "text/plain": [
              "<Figure size 500x500 with 1 Axes>"
            ],
            "image/png": "[encoded data removed]"
          },
          "metadata": {}
        },
        {
          "output_type": "display_data",
          "data": {
            "text/plain": [
              "<Figure size 500x500 with 1 Axes>"
            ],
            "image/png": "[encoded data removed]"
          },
          "metadata": {}
        },
        {
          "output_type": "display_data",
          "data": {
            "text/plain": [
              "<Figure size 500x500 with 1 Axes>"
            ],
            "image/png": "[encoded data removed]"
          },
          "metadata": {}
        },
        {
          "output_type": "display_data",
          "data": {
            "text/plain": [
              "<Figure size 500x500 with 1 Axes>"
            ],
            "image/png": "[encoded data removed]"
          },
          "metadata": {}
        },
        {
          "output_type": "display_data",
          "data": {
            "text/plain": [
              "<Figure size 500x500 with 1 Axes>"
            ],
            "image/png": "[encoded data removed]"
          },
          "metadata": {}
        }
      ]
    },
    {
      "cell_type": "code",
      "source": [
        "sns.displot(df)"
      ],
      "metadata": {
        "colab": {
          "base_uri": "https://localhost:8080/",
          "height": 520
        },
        "id": "KCzuWS8ae6GI",
        "outputId": "2edf666a-878c-4055-face-d18c9ca48373"
      },
      "execution_count": 143,
      "outputs": [
        {
          "output_type": "execute_result",
          "data": {
            "text/plain": [
              "<seaborn.axisgrid.FacetGrid at 0x7e49fc7b62c0>"
            ]
          },
          "metadata": {},
          "execution_count": 143
        },
        {
          "output_type": "display_data",
          "data": {
            "text/plain": [
              "<Figure size 681.375x500 with 1 Axes>"
            ],
            "image/png": "[encoded data removed]"
          },
          "metadata": {}
        }
      ]
    },
    {
      "cell_type": "code",
      "source": [
        "sns.pairplot(df[['behaviour', 'Event']])"
      ],
      "metadata": {
        "colab": {
          "base_uri": "https://localhost:8080/",
          "height": 529
        },
        "id": "q8pq3gnql3u_",
        "outputId": "cd0073da-c6a3-4156-a828-5f8526981443"
      },
      "execution_count": 144,
      "outputs": [
        {
          "output_type": "execute_result",
          "data": {
            "text/plain": [
              "<seaborn.axisgrid.PairGrid at 0x7e49f9d60820>"
            ]
          },
          "metadata": {},
          "execution_count": 144
        },
        {
          "output_type": "display_data",
          "data": {
            "text/plain": [
              "<Figure size 500x500 with 6 Axes>"
            ],
            "image/png": "[encoded data removed]"
          },
          "metadata": {}
        }
      ]
    }
  ],
  "metadata": {
    "colab": {
      "provenance": [],
      "collapsed_sections": [
        "QnWnY2-21Z72",
        "i8oCsDsF8Hid"
      ]
    },
    "kernelspec": {
      "display_name": "Python 3",
      "name": "python3"
    },
    "language_info": {
      "name": "python"
    }
  },
  "nbformat": 4,
  "nbformat_minor": 0
}